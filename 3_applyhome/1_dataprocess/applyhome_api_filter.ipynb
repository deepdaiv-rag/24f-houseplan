{
 "cells": [
  {
   "cell_type": "code",
   "execution_count": 7,
   "metadata": {},
   "outputs": [
    {
     "name": "stdout",
     "output_type": "stream",
     "text": [
      " C 드라이브의 볼륨에는 이름이 없습니다.\n",
      " 볼륨 일련 번호: E2B7-80CC\n",
      "\n",
      " C:\\Users\\kist\\Desktop\\YongJuKim\\24f-houseplan\\3_applyhome\\1_API 디렉터리\n",
      "\n",
      "2025-01-06  오후 06:20    <DIR>          .\n",
      "2025-01-06  오후 06:20    <DIR>          ..\n",
      "2025-01-06  오후 06:18    <DIR>          .ipynb_checkpoints\n",
      "2025-01-06  오후 05:42             6,822 1_getAPTLttotPblancDetail.csv\n",
      "2025-01-06  오후 05:42            24,497 10_getOPTLttotPblancMdl.csv\n",
      "2025-01-06  오후 05:42           533,182 2_getUrbtyOfctlLttotPblancDetail.csv\n",
      "2025-01-06  오후 05:42           953,987 3_getRemndrLttotPblancDetail.csv\n",
      "2025-01-06  오후 05:42           756,502 4_getAPTLttotPblancMdl.csv\n",
      "2025-01-06  오후 05:42           170,254 5_getUrbtyOfctlLttotPblancMdl.csv\n",
      "2025-01-06  오후 05:42           159,556 6_getUrbtyOfctlLttotPblancMdl.csv\n",
      "2025-01-06  오후 05:42            49,895 7_getPblPvtRentLttotPblancDetail.csv\n",
      "2025-01-06  오후 05:42            51,959 8_getPblPvtRentLttotPblancMdl.csv\n",
      "2025-01-06  오후 05:42            66,814 9_getOPTLttotPblancDetail.csv\n",
      "2025-01-06  오후 03:53         7,537,195 applyhome_api_1.ipynb\n",
      "2025-01-06  오후 05:40         9,518,190 applyhome_api_2.ipynb\n",
      "2025-01-06  오후 06:20            13,034 applyhome_api_filter.ipynb\n",
      "2025-01-06  오후 03:53           437,145 한국부동산원_API_manual.docx\n",
      "              14개 파일          20,279,032 바이트\n",
      "               3개 디렉터리  131,153,313,792 바이트 남음\n"
     ]
    }
   ],
   "source": [
    "ls"
   ]
  },
  {
   "cell_type": "markdown",
   "metadata": {},
   "source": [
    "# 1. data processing"
   ]
  },
  {
   "cell_type": "code",
   "execution_count": null,
   "metadata": {},
   "outputs": [],
   "source": [
    "'''\n",
    "data_1: 아파트 분양 데이터.\n",
    "data_2: 오피스텔, 도시형, 민간임대, 생활숙박시설 분양 데이터.\n",
    "data_3: 아파트(Apt) 무순위 및 잔여세대 분양 데이터.\n",
    "data_7: 공공지원 민간임대 분양 데이터.\n",
    "data_9: 임의 공급 분양 데이터.\n",
    "'''"
   ]
  },
  {
   "cell_type": "markdown",
   "metadata": {},
   "source": [
    "import pandas as pd\n",
    "\n",
    "# CSV 데이터 읽기\n",
    "data_1 = pd.read_csv(r\"1_getAPTLttotPblancDetail.csv\", encoding=\"utf-8-sig\")\n",
    "data_2 = pd.read_csv(r\"2_getUrbtyOfctlLttotPblancDetail.csv\", encoding=\"utf-8-sig\")\n",
    "data_3 = pd.read_csv(r\"3_getRemndrLttotPblancDetail.csv\", encoding=\"utf-8-sig\")\n",
    "data_7 = pd.read_csv(r\"7_getPblPvtRentLttotPblancDetail.csv\", encoding=\"utf-8-sig\")\n",
    "data_9 = pd.read_csv(r\"9_getUrbtyOfctlLttotPblancDetail.csv\", encoding=\"utf-8-sig\")"
   ]
  },
  {
   "cell_type": "markdown",
   "metadata": {},
   "source": [
    "# 청약 데이터 중 청약 접수 종료일(SUBSCRPT_RCEPT_ENDDE 또는 RCEPT_ENDDE)이 오늘 날짜보다 뒤에 있는 데이터만 남기기."
   ]
  },
  {
   "cell_type": "code",
   "execution_count": 23,
   "metadata": {},
   "outputs": [
    {
     "name": "stdout",
     "output_type": "stream",
     "text": [
      "Filtered data_1:\n",
      "APT 분양 수 : 6\n",
      "Filtered data_2:\n",
      "오피스텔/도시형/민간임대/생활숙박시설 분양 수 : 4\n",
      "Filtered data_3:\n",
      "APT 무순위/잔여세대 분양 수 : 2\n",
      "Filtered data_7:\n",
      "공공지원 민간임대 분양수 : 0\n",
      "Filtered data_9:\n",
      "임의공급 분양 수 : 0\n"
     ]
    }
   ],
   "source": [
    "import pandas as pd\n",
    "from datetime import datetime\n",
    "\n",
    "# 오늘 날짜 가져오기\n",
    "today = datetime.now().date()\n",
    "\n",
    "# 날짜 변환 및 필터링 함수\n",
    "def filter_by_date(df, column):\n",
    "    # 날짜 형식을 추정하여 변환 (일부 형식이 섞여 있는 경우 처리)\n",
    "    df[column] = pd.to_datetime(df[column], errors='coerce')  # 'coerce'로 변환 실패 시 NaT로 처리\n",
    "    # 변환 실패한 데이터 제거\n",
    "    df = df.dropna(subset=[column])\n",
    "    # 오늘 이후의 데이터만 필터링\n",
    "    return df[df[column] > pd.Timestamp(today)]\n",
    "\n",
    "# 각 데이터셋에 필터링 적용\n",
    "try:\n",
    "    data_1_filtered = filter_by_date(data_1, \"RCEPT_ENDDE\")\n",
    "    data_2_filtered = filter_by_date(data_2, \"SUBSCRPT_RCEPT_ENDDE\")\n",
    "    data_3_filtered = filter_by_date(data_3, \"SUBSCRPT_RCEPT_ENDDE\")\n",
    "    data_7_filtered = filter_by_date(data_7, \"SUBSCRPT_RCEPT_ENDDE\")\n",
    "    data_9_filtered = filter_by_date(data_9, \"SUBSCRPT_RCEPT_ENDDE\")\n",
    "    \n",
    "    # 결과 확인\n",
    "    print(\"Filtered data_1:\")\n",
    "    print(\"APT 분양 수 :\",len(data_1_filtered))\n",
    "    print(\"Filtered data_2:\")\n",
    "    print(\"오피스텔/도시형/민간임대/생활숙박시설 분양 수 :\",len(data_2_filtered))\n",
    "    print(\"Filtered data_3:\")\n",
    "    print(\"APT 무순위/잔여세대 분양 수 :\",len(data_3_filtered))\n",
    "    print(\"Filtered data_7:\")\n",
    "    print(\"공공지원 민간임대 분양수 :\",len(data_7_filtered))\n",
    "    print(\"Filtered data_9:\")\n",
    "    print(\"임의공급 분양 수 :\",len(data_9_filtered))\n",
    " \n",
    " \n",
    "except Exception as e:\n",
    "    print(f\"오류 발생: {e}\")\n"
   ]
  },
  {
   "cell_type": "code",
   "execution_count": 26,
   "metadata": {},
   "outputs": [
    {
     "data": {
      "text/html": [
       "<div>\n",
       "<style scoped>\n",
       "    .dataframe tbody tr th:only-of-type {\n",
       "        vertical-align: middle;\n",
       "    }\n",
       "\n",
       "    .dataframe tbody tr th {\n",
       "        vertical-align: top;\n",
       "    }\n",
       "\n",
       "    .dataframe thead th {\n",
       "        text-align: right;\n",
       "    }\n",
       "</style>\n",
       "<table border=\"1\" class=\"dataframe\">\n",
       "  <thead>\n",
       "    <tr style=\"text-align: right;\">\n",
       "      <th></th>\n",
       "      <th>BSNS_MBY_NM</th>\n",
       "      <th>CNTRCT_CNCLS_BGNDE</th>\n",
       "      <th>CNTRCT_CNCLS_ENDDE</th>\n",
       "      <th>HMPG_ADRES</th>\n",
       "      <th>HOUSE_DTL_SECD</th>\n",
       "      <th>HOUSE_DTL_SECD_NM</th>\n",
       "      <th>HOUSE_MANAGE_NO</th>\n",
       "      <th>HOUSE_NM</th>\n",
       "      <th>HOUSE_SECD</th>\n",
       "      <th>HOUSE_SECD_NM</th>\n",
       "      <th>...</th>\n",
       "      <th>MDHS_TELNO</th>\n",
       "      <th>MVN_PREARNGE_YM</th>\n",
       "      <th>PBLANC_NO</th>\n",
       "      <th>PBLANC_URL</th>\n",
       "      <th>PRZWNER_PRESNATN_DE</th>\n",
       "      <th>RCRIT_PBLANC_DE</th>\n",
       "      <th>SEARCH_HOUSE_SECD</th>\n",
       "      <th>SUBSCRPT_RCEPT_BGNDE</th>\n",
       "      <th>SUBSCRPT_RCEPT_ENDDE</th>\n",
       "      <th>TOT_SUPLY_HSHLDCO</th>\n",
       "    </tr>\n",
       "  </thead>\n",
       "  <tbody>\n",
       "    <tr>\n",
       "      <th>0</th>\n",
       "      <td>교보자산신탁(주)</td>\n",
       "      <td>2025-01-24</td>\n",
       "      <td>2025-01-31</td>\n",
       "      <td>https://www.장위아트포레.com</td>\n",
       "      <td>1</td>\n",
       "      <td>도시형생활주택</td>\n",
       "      <td>2024950095</td>\n",
       "      <td>상월곡역 장위아트포레(도시형생활주택)</td>\n",
       "      <td>2</td>\n",
       "      <td>도시형/오피스텔/생활숙박시설/민간임대</td>\n",
       "      <td>...</td>\n",
       "      <td>29660988.0</td>\n",
       "      <td>202505</td>\n",
       "      <td>2024950095</td>\n",
       "      <td>https://www.applyhome.co.kr/ai/aia/selectPRMOL...</td>\n",
       "      <td>2025-01-13</td>\n",
       "      <td>2024-12-27</td>\n",
       "      <td>201</td>\n",
       "      <td>2025-01-06</td>\n",
       "      <td>2025-01-08</td>\n",
       "      <td>5</td>\n",
       "    </tr>\n",
       "    <tr>\n",
       "      <th>1</th>\n",
       "      <td>(주)무궁화신탁</td>\n",
       "      <td>2025-01-14</td>\n",
       "      <td>2025-01-14</td>\n",
       "      <td>https://xi.co.kr/pangyo-office</td>\n",
       "      <td>2</td>\n",
       "      <td>오피스텔</td>\n",
       "      <td>2024950094</td>\n",
       "      <td>판교밸리자이 3단지 오피스텔</td>\n",
       "      <td>2</td>\n",
       "      <td>도시형/오피스텔/생활숙박시설/민간임대</td>\n",
       "      <td>...</td>\n",
       "      <td>15338178.0</td>\n",
       "      <td>202503</td>\n",
       "      <td>2024950094</td>\n",
       "      <td>https://www.applyhome.co.kr/ai/aia/selectPRMOL...</td>\n",
       "      <td>2025-01-10</td>\n",
       "      <td>2024-12-27</td>\n",
       "      <td>202</td>\n",
       "      <td>2025-01-07</td>\n",
       "      <td>2025-01-07</td>\n",
       "      <td>3</td>\n",
       "    </tr>\n",
       "    <tr>\n",
       "      <th>549</th>\n",
       "      <td>(주)무궁화신탁</td>\n",
       "      <td>2025-01-14</td>\n",
       "      <td>2025-01-14</td>\n",
       "      <td>https://xi.co.kr/pangyo-office</td>\n",
       "      <td>2</td>\n",
       "      <td>오피스텔</td>\n",
       "      <td>2024950094</td>\n",
       "      <td>판교밸리자이 3단지 오피스텔</td>\n",
       "      <td>2</td>\n",
       "      <td>도시형/오피스텔/생활숙박시설/민간임대</td>\n",
       "      <td>...</td>\n",
       "      <td>15338178.0</td>\n",
       "      <td>202503</td>\n",
       "      <td>2024950094</td>\n",
       "      <td>https://www.applyhome.co.kr/ai/aia/selectPRMOL...</td>\n",
       "      <td>2025-01-10</td>\n",
       "      <td>2024-12-27</td>\n",
       "      <td>202</td>\n",
       "      <td>2025-01-07</td>\n",
       "      <td>2025-01-07</td>\n",
       "      <td>3</td>\n",
       "    </tr>\n",
       "    <tr>\n",
       "      <th>581</th>\n",
       "      <td>교보자산신탁(주)</td>\n",
       "      <td>2025-01-24</td>\n",
       "      <td>2025-01-31</td>\n",
       "      <td>https://www.장위아트포레.com</td>\n",
       "      <td>1</td>\n",
       "      <td>도시형생활주택</td>\n",
       "      <td>2024950095</td>\n",
       "      <td>상월곡역 장위아트포레(도시형생활주택)</td>\n",
       "      <td>2</td>\n",
       "      <td>도시형/오피스텔/생활숙박시설/민간임대</td>\n",
       "      <td>...</td>\n",
       "      <td>29660988.0</td>\n",
       "      <td>202505</td>\n",
       "      <td>2024950095</td>\n",
       "      <td>https://www.applyhome.co.kr/ai/aia/selectPRMOL...</td>\n",
       "      <td>2025-01-13</td>\n",
       "      <td>2024-12-27</td>\n",
       "      <td>201</td>\n",
       "      <td>2025-01-06</td>\n",
       "      <td>2025-01-08</td>\n",
       "      <td>5</td>\n",
       "    </tr>\n",
       "  </tbody>\n",
       "</table>\n",
       "<p>4 rows × 22 columns</p>\n",
       "</div>"
      ],
      "text/plain": [
       "    BSNS_MBY_NM CNTRCT_CNCLS_BGNDE CNTRCT_CNCLS_ENDDE  \\\n",
       "0     교보자산신탁(주)         2025-01-24         2025-01-31   \n",
       "1      (주)무궁화신탁         2025-01-14         2025-01-14   \n",
       "549    (주)무궁화신탁         2025-01-14         2025-01-14   \n",
       "581   교보자산신탁(주)         2025-01-24         2025-01-31   \n",
       "\n",
       "                         HMPG_ADRES  HOUSE_DTL_SECD HOUSE_DTL_SECD_NM  \\\n",
       "0            https://www.장위아트포레.com               1           도시형생활주택   \n",
       "1    https://xi.co.kr/pangyo-office               2              오피스텔   \n",
       "549  https://xi.co.kr/pangyo-office               2              오피스텔   \n",
       "581          https://www.장위아트포레.com               1           도시형생활주택   \n",
       "\n",
       "     HOUSE_MANAGE_NO              HOUSE_NM  HOUSE_SECD         HOUSE_SECD_NM  \\\n",
       "0         2024950095  상월곡역 장위아트포레(도시형생활주택)           2  도시형/오피스텔/생활숙박시설/민간임대   \n",
       "1         2024950094       판교밸리자이 3단지 오피스텔           2  도시형/오피스텔/생활숙박시설/민간임대   \n",
       "549       2024950094       판교밸리자이 3단지 오피스텔           2  도시형/오피스텔/생활숙박시설/민간임대   \n",
       "581       2024950095  상월곡역 장위아트포레(도시형생활주택)           2  도시형/오피스텔/생활숙박시설/민간임대   \n",
       "\n",
       "     ...  MDHS_TELNO  MVN_PREARNGE_YM   PBLANC_NO  \\\n",
       "0    ...  29660988.0           202505  2024950095   \n",
       "1    ...  15338178.0           202503  2024950094   \n",
       "549  ...  15338178.0           202503  2024950094   \n",
       "581  ...  29660988.0           202505  2024950095   \n",
       "\n",
       "                                            PBLANC_URL  PRZWNER_PRESNATN_DE  \\\n",
       "0    https://www.applyhome.co.kr/ai/aia/selectPRMOL...           2025-01-13   \n",
       "1    https://www.applyhome.co.kr/ai/aia/selectPRMOL...           2025-01-10   \n",
       "549  https://www.applyhome.co.kr/ai/aia/selectPRMOL...           2025-01-10   \n",
       "581  https://www.applyhome.co.kr/ai/aia/selectPRMOL...           2025-01-13   \n",
       "\n",
       "    RCRIT_PBLANC_DE SEARCH_HOUSE_SECD SUBSCRPT_RCEPT_BGNDE  \\\n",
       "0        2024-12-27               201           2025-01-06   \n",
       "1        2024-12-27               202           2025-01-07   \n",
       "549      2024-12-27               202           2025-01-07   \n",
       "581      2024-12-27               201           2025-01-06   \n",
       "\n",
       "     SUBSCRPT_RCEPT_ENDDE TOT_SUPLY_HSHLDCO  \n",
       "0              2025-01-08                 5  \n",
       "1              2025-01-07                 3  \n",
       "549            2025-01-07                 3  \n",
       "581            2025-01-08                 5  \n",
       "\n",
       "[4 rows x 22 columns]"
      ]
     },
     "execution_count": 26,
     "metadata": {},
     "output_type": "execute_result"
    }
   ],
   "source": [
    "data_2_filtered"
   ]
  },
  {
   "cell_type": "code",
   "execution_count": 34,
   "metadata": {},
   "outputs": [
    {
     "name": "stdout",
     "output_type": "stream",
     "text": [
      "Combined data shape: (12, 55)\n",
      "출력되는 청약 수: 12\n",
      "데이터가 'applyhome_api_filter.csv' 파일로 저장되었습니다.\n"
     ]
    }
   ],
   "source": [
    "import pandas as pd\n",
    "\n",
    "# 데이터 합치기\n",
    "combined_data = pd.concat(\n",
    "    [data_1_filtered, data_2_filtered, data_3_filtered, data_7_filtered, data_9_filtered], \n",
    "    ignore_index=True\n",
    ")\n",
    "\n",
    "# 결과 확인\n",
    "print(\"Combined data shape:\", combined_data.shape)\n",
    "print(\"출력되는 청약 수:\", len(combined_data))\n",
    "\n",
    "# CSV 파일로 저장\n",
    "combined_data.to_csv(\"applyhome_api_filter.csv\", index=False, encoding=\"utf-8-sig\")\n",
    "print(\"데이터가 'applyhome_api_filter.csv' 파일로 저장되었습니다.\")\n",
    "\n"
   ]
  },
  {
   "cell_type": "raw",
   "metadata": {},
   "source": []
  },
  {
   "cell_type": "code",
   "execution_count": null,
   "metadata": {},
   "outputs": [],
   "source": [
    "# 2. 금액정보 크롤링"
   ]
  },
  {
   "cell_type": "code",
   "execution_count": 35,
   "metadata": {},
   "outputs": [
    {
     "name": "stdout",
     "output_type": "stream",
     "text": [
      "크롤링 실패: https://www.applyhome.co.kr/ai/aia/selectAPTLttotPblancDetail.do?houseManageNo=2024820019&pblancNo=2024820019 - HTTPSConnectionPool(host='www.applyhome.co.kr', port=443): Max retries exceeded with url: /ai/aia/selectAPTLttotPblancDetail.do?houseManageNo=2024820019&pblancNo=2024820019 (Caused by SSLError(SSLCertVerificationError(1, '[SSL: CERTIFICATE_VERIFY_FAILED] certificate verify failed: self signed certificate in certificate chain (_ssl.c:1002)')))\n",
      "크롤링 실패: https://www.applyhome.co.kr/ai/aia/selectAPTLttotPblancDetail.do?houseManageNo=2024000715&pblancNo=2024000715 - HTTPSConnectionPool(host='www.applyhome.co.kr', port=443): Max retries exceeded with url: /ai/aia/selectAPTLttotPblancDetail.do?houseManageNo=2024000715&pblancNo=2024000715 (Caused by SSLError(SSLCertVerificationError(1, '[SSL: CERTIFICATE_VERIFY_FAILED] certificate verify failed: self signed certificate in certificate chain (_ssl.c:1002)')))\n",
      "크롤링 실패: https://www.applyhome.co.kr/ai/aia/selectAPTLttotPblancDetail.do?houseManageNo=2024820018&pblancNo=2024820018 - HTTPSConnectionPool(host='www.applyhome.co.kr', port=443): Max retries exceeded with url: /ai/aia/selectAPTLttotPblancDetail.do?houseManageNo=2024820018&pblancNo=2024820018 (Caused by SSLError(SSLCertVerificationError(1, '[SSL: CERTIFICATE_VERIFY_FAILED] certificate verify failed: self signed certificate in certificate chain (_ssl.c:1002)')))\n",
      "크롤링 실패: https://www.applyhome.co.kr/ai/aia/selectAPTLttotPblancDetail.do?houseManageNo=2024000661&pblancNo=2024000661 - HTTPSConnectionPool(host='www.applyhome.co.kr', port=443): Max retries exceeded with url: /ai/aia/selectAPTLttotPblancDetail.do?houseManageNo=2024000661&pblancNo=2024000661 (Caused by SSLError(SSLCertVerificationError(1, '[SSL: CERTIFICATE_VERIFY_FAILED] certificate verify failed: self signed certificate in certificate chain (_ssl.c:1002)')))\n",
      "크롤링 실패: https://www.applyhome.co.kr/ai/aia/selectAPTLttotPblancDetail.do?houseManageNo=2024000704&pblancNo=2024000704 - HTTPSConnectionPool(host='www.applyhome.co.kr', port=443): Max retries exceeded with url: /ai/aia/selectAPTLttotPblancDetail.do?houseManageNo=2024000704&pblancNo=2024000704 (Caused by SSLError(SSLCertVerificationError(1, '[SSL: CERTIFICATE_VERIFY_FAILED] certificate verify failed: self signed certificate in certificate chain (_ssl.c:1002)')))\n",
      "크롤링 실패: https://www.applyhome.co.kr/ai/aia/selectAPTLttotPblancDetail.do?houseManageNo=2024000726&pblancNo=2024000726 - HTTPSConnectionPool(host='www.applyhome.co.kr', port=443): Max retries exceeded with url: /ai/aia/selectAPTLttotPblancDetail.do?houseManageNo=2024000726&pblancNo=2024000726 (Caused by SSLError(SSLCertVerificationError(1, '[SSL: CERTIFICATE_VERIFY_FAILED] certificate verify failed: self signed certificate in certificate chain (_ssl.c:1002)')))\n",
      "크롤링 실패: https://www.applyhome.co.kr/ai/aia/selectPRMOLttotPblancDetailView.do?houseManageNo=2024950095&pblancNo=2024950095&houseSecd=02 - HTTPSConnectionPool(host='www.applyhome.co.kr', port=443): Max retries exceeded with url: /ai/aia/selectPRMOLttotPblancDetailView.do?houseManageNo=2024950095&pblancNo=2024950095&houseSecd=02 (Caused by SSLError(SSLCertVerificationError(1, '[SSL: CERTIFICATE_VERIFY_FAILED] certificate verify failed: self signed certificate in certificate chain (_ssl.c:1002)')))\n",
      "크롤링 실패: https://www.applyhome.co.kr/ai/aia/selectPRMOLttotPblancDetailView.do?houseManageNo=2024950094&pblancNo=2024950094&houseSecd=02 - HTTPSConnectionPool(host='www.applyhome.co.kr', port=443): Max retries exceeded with url: /ai/aia/selectPRMOLttotPblancDetailView.do?houseManageNo=2024950094&pblancNo=2024950094&houseSecd=02 (Caused by SSLError(SSLCertVerificationError(1, '[SSL: CERTIFICATE_VERIFY_FAILED] certificate verify failed: self signed certificate in certificate chain (_ssl.c:1002)')))\n",
      "크롤링 실패: https://www.applyhome.co.kr/ai/aia/selectPRMOLttotPblancDetailView.do?houseManageNo=2024950094&pblancNo=2024950094&houseSecd=02 - HTTPSConnectionPool(host='www.applyhome.co.kr', port=443): Max retries exceeded with url: /ai/aia/selectPRMOLttotPblancDetailView.do?houseManageNo=2024950094&pblancNo=2024950094&houseSecd=02 (Caused by SSLError(SSLCertVerificationError(1, '[SSL: CERTIFICATE_VERIFY_FAILED] certificate verify failed: self signed certificate in certificate chain (_ssl.c:1002)')))\n",
      "크롤링 실패: https://www.applyhome.co.kr/ai/aia/selectPRMOLttotPblancDetailView.do?houseManageNo=2024950095&pblancNo=2024950095&houseSecd=02 - HTTPSConnectionPool(host='www.applyhome.co.kr', port=443): Max retries exceeded with url: /ai/aia/selectPRMOLttotPblancDetailView.do?houseManageNo=2024950095&pblancNo=2024950095&houseSecd=02 (Caused by SSLError(SSLCertVerificationError(1, '[SSL: CERTIFICATE_VERIFY_FAILED] certificate verify failed: self signed certificate in certificate chain (_ssl.c:1002)')))\n",
      "크롤링 실패: https://www.applyhome.co.kr/ai/aia/selectAPTRemndrLttotPblancDetailView.do?houseManageNo=2024910230&pblancNo=2024910230 - HTTPSConnectionPool(host='www.applyhome.co.kr', port=443): Max retries exceeded with url: /ai/aia/selectAPTRemndrLttotPblancDetailView.do?houseManageNo=2024910230&pblancNo=2024910230 (Caused by SSLError(SSLCertVerificationError(1, '[SSL: CERTIFICATE_VERIFY_FAILED] certificate verify failed: self signed certificate in certificate chain (_ssl.c:1002)')))\n",
      "크롤링 실패: https://www.applyhome.co.kr/ai/aia/selectAPTRemndrLttotPblancDetailView.do?houseManageNo=2024910230&pblancNo=2024910230 - HTTPSConnectionPool(host='www.applyhome.co.kr', port=443): Max retries exceeded with url: /ai/aia/selectAPTRemndrLttotPblancDetailView.do?houseManageNo=2024910230&pblancNo=2024910230 (Caused by SSLError(SSLCertVerificationError(1, '[SSL: CERTIFICATE_VERIFY_FAILED] certificate verify failed: self signed certificate in certificate chain (_ssl.c:1002)')))\n",
      "크롤링 완료 및 저장 완료!\n"
     ]
    }
   ],
   "source": [
    "import requests\n",
    "from bs4 import BeautifulSoup\n",
    "import pandas as pd\n",
    "\n",
    "# 크롤링 결과 저장 리스트\n",
    "results = []\n",
    "\n",
    "# PBLANC_URL 열에서 URL 리스트 가져오기\n",
    "url_list = combined_data['PBLANC_URL']\n",
    "\n",
    "# 크롤링 실행\n",
    "for url in url_list:\n",
    "    try:\n",
    "        # HTTP GET 요청\n",
    "        response = requests.get(url)\n",
    "        response.raise_for_status()  # 요청 실패 시 예외 발생\n",
    "        \n",
    "        # HTML 파싱\n",
    "        soup = BeautifulSoup(response.text, 'html.parser')\n",
    "        \n",
    "        # \"공급금액(최고가 기준)\" 데이터 추출\n",
    "        table = soup.find(\"table\", {\"class\": \"tbl_st tbl_row tbl_col tbl_center\"})  # 표 선택\n",
    "        rows = table.find_all(\"tr\")\n",
    "        \n",
    "        for row in rows:\n",
    "            cells = row.find_all(\"td\")\n",
    "            if len(cells) > 1:  # 데이터가 있는 행만 처리\n",
    "                housing_type = cells[0].get_text(strip=True)  # 주택형\n",
    "                max_price = cells[1].get_text(strip=True)  # 공급금액(최고가 기준)\n",
    "                deposit = cells[2].get_text(strip=True)  # 2순위 청약금\n",
    "                \n",
    "                # 결과 저장\n",
    "                results.append({\n",
    "                    \"URL\": url,\n",
    "                    \"주택형\": housing_type,\n",
    "                    \"공급금액(최고가 기준)\": max_price,\n",
    "                    \"2순위 청약금\": deposit\n",
    "                })\n",
    "\n",
    "    except Exception as e:\n",
    "        print(f\"크롤링 실패: {url} - {e}\")\n",
    "\n",
    "# 결과를 DataFrame으로 변환\n",
    "results_df = pd.DataFrame(results)\n",
    "\n",
    "# 결과 저장\n",
    "results_df.to_csv(\"crawling_results.csv\", index=False, encoding=\"utf-8-sig\")\n",
    "print(\"크롤링 완료 및 저장 완료!\")\n"
   ]
  },
  {
   "cell_type": "code",
   "execution_count": null,
   "metadata": {},
   "outputs": [],
   "source": []
  },
  {
   "cell_type": "code",
   "execution_count": 1,
   "metadata": {},
   "outputs": [
    {
     "name": "stdout",
     "output_type": "stream",
     "text": [
      "요청 중 오류 발생: HTTPSConnectionPool(host='apply.lh.or.kr', port=443): Max retries exceeded with url: /lhapply/apply/wt/wrtanc/selectWrtancList.do (Caused by SSLError(SSLCertVerificationError(1, '[SSL: CERTIFICATE_VERIFY_FAILED] certificate verify failed: self signed certificate in certificate chain (_ssl.c:1002)')))\n"
     ]
    }
   ],
   "source": [
    "import requests\n",
    "from bs4 import BeautifulSoup\n",
    "\n",
    "# URL 설정\n",
    "url = \"https://apply.lh.or.kr/lhapply/apply/wt/wrtanc/selectWrtancList.do\"\n",
    "\n",
    "try:\n",
    "    # HTTP GET 요청\n",
    "    response = requests.get(url, timeout=10)\n",
    "    \n",
    "    # 상태 코드 확인\n",
    "    if response.status_code == 200:\n",
    "        print(\"접속 성공: 상태 코드 200\")\n",
    "\n",
    "        # 페이지 내용 파싱\n",
    "        soup = BeautifulSoup(response.text, 'html.parser')\n",
    "        \n",
    "        # HTML의 특정 태그 확인 (예: 제목)\n",
    "        title = soup.title.string if soup.title else \"제목 없음\"\n",
    "        print(\"페이지 제목:\", title)\n",
    "        \n",
    "        # 특정 태그가 있는지 예시 확인\n",
    "        table = soup.find('table')\n",
    "        if table:\n",
    "            print(\"테이블 요소를 찾았습니다.\")\n",
    "        else:\n",
    "            print(\"테이블 요소를 찾지 못했습니다.\")\n",
    "    else:\n",
    "        print(f\"접속 실패: 상태 코드 {response.status_code}\")\n",
    "\n",
    "except requests.exceptions.RequestException as e:\n",
    "    print(\"요청 중 오류 발생:\", e)\n"
   ]
  },
  {
   "cell_type": "code",
   "execution_count": null,
   "metadata": {},
   "outputs": [],
   "source": [
    "# 3. test"
   ]
  },
  {
   "cell_type": "code",
   "execution_count": 4,
   "metadata": {},
   "outputs": [
    {
     "name": "stdout",
     "output_type": "stream",
     "text": [
      "Requirement already satisfied: pdfkit in c:\\downloads\\lib\\site-packages (1.0.0)\n"
     ]
    },
    {
     "name": "stderr",
     "output_type": "stream",
     "text": [
      "\n",
      "[notice] A new release of pip is available: 23.1.2 -> 24.3.1\n",
      "[notice] To update, run: python.exe -m pip install --upgrade pip\n"
     ]
    },
    {
     "ename": "NameError",
     "evalue": "name 'wkhtmltopdf' is not defined",
     "output_type": "error",
     "traceback": [
      "\u001b[1;31m---------------------------------------------------------------------------\u001b[0m",
      "\u001b[1;31mNameError\u001b[0m                                 Traceback (most recent call last)",
      "Cell \u001b[1;32mIn[4], line 3\u001b[0m\n\u001b[0;32m      1\u001b[0m get_ipython()\u001b[38;5;241m.\u001b[39msystem(\u001b[38;5;124m'\u001b[39m\u001b[38;5;124mpip install pdfkit\u001b[39m\u001b[38;5;124m'\u001b[39m)\n\u001b[1;32m----> 3\u001b[0m \u001b[43mwkhtmltopdf\u001b[49m \u001b[38;5;241m-\u001b[39m\u001b[38;5;241m-\u001b[39mversion\n",
      "\u001b[1;31mNameError\u001b[0m: name 'wkhtmltopdf' is not defined"
     ]
    }
   ],
   "source": [
    "!pip install pdfkit\n",
    "\n",
    "wkhtmltopdf --version"
   ]
  },
  {
   "cell_type": "code",
   "execution_count": 5,
   "metadata": {},
   "outputs": [
    {
     "ename": "OSError",
     "evalue": "No wkhtmltopdf executable found: \"b''\"\nIf this file exists please check that this process can read it or you can pass path to it manually in method call, check README. Otherwise please install wkhtmltopdf - https://github.com/JazzCore/python-pdfkit/wiki/Installing-wkhtmltopdf",
     "output_type": "error",
     "traceback": [
      "\u001b[1;31m---------------------------------------------------------------------------\u001b[0m",
      "\u001b[1;31mFileNotFoundError\u001b[0m                         Traceback (most recent call last)",
      "File \u001b[1;32mC:\\Downloads\\Lib\\site-packages\\pdfkit\\configuration.py:35\u001b[0m, in \u001b[0;36mConfiguration.__init__\u001b[1;34m(self, wkhtmltopdf, meta_tag_prefix, environ)\u001b[0m\n\u001b[0;32m     33\u001b[0m     \u001b[38;5;28mself\u001b[39m\u001b[38;5;241m.\u001b[39mwkhtmltopdf \u001b[38;5;241m=\u001b[39m lines[\u001b[38;5;241m0\u001b[39m]\u001b[38;5;241m.\u001b[39mstrip()\n\u001b[1;32m---> 35\u001b[0m \u001b[38;5;28;01mwith\u001b[39;00m \u001b[38;5;28;43mopen\u001b[39;49m\u001b[43m(\u001b[49m\u001b[38;5;28;43mself\u001b[39;49m\u001b[38;5;241;43m.\u001b[39;49m\u001b[43mwkhtmltopdf\u001b[49m\u001b[43m)\u001b[49m \u001b[38;5;28;01mas\u001b[39;00m f:\n\u001b[0;32m     36\u001b[0m     \u001b[38;5;28;01mpass\u001b[39;00m\n",
      "\u001b[1;31mFileNotFoundError\u001b[0m: [Errno 2] No such file or directory: b''",
      "\nDuring handling of the above exception, another exception occurred:\n",
      "\u001b[1;31mOSError\u001b[0m                                   Traceback (most recent call last)",
      "Cell \u001b[1;32mIn[5], line 5\u001b[0m\n\u001b[0;32m      3\u001b[0m \u001b[38;5;66;03m# HTML 문자열을 PDF로 저장\u001b[39;00m\n\u001b[0;32m      4\u001b[0m html_string \u001b[38;5;241m=\u001b[39m \u001b[38;5;124m\"\u001b[39m\u001b[38;5;124m<h1>Hello, World!</h1>\u001b[39m\u001b[38;5;124m\"\u001b[39m\n\u001b[1;32m----> 5\u001b[0m \u001b[43mpdfkit\u001b[49m\u001b[38;5;241;43m.\u001b[39;49m\u001b[43mfrom_string\u001b[49m\u001b[43m(\u001b[49m\u001b[43mhtml_string\u001b[49m\u001b[43m,\u001b[49m\u001b[43m \u001b[49m\u001b[38;5;124;43m\"\u001b[39;49m\u001b[38;5;124;43moutput.pdf\u001b[39;49m\u001b[38;5;124;43m\"\u001b[39;49m\u001b[43m)\u001b[49m\n\u001b[0;32m      7\u001b[0m \u001b[38;5;66;03m# URL을 PDF로 저장\u001b[39;00m\n\u001b[0;32m      8\u001b[0m \u001b[38;5;66;03m#pdfkit.from_url(\"https://example.com\", \"output.pdf\")\u001b[39;00m\n\u001b[0;32m      9\u001b[0m \n\u001b[0;32m     10\u001b[0m \u001b[38;5;66;03m# 로컬 HTML 파일을 PDF로 저장\u001b[39;00m\n\u001b[0;32m     11\u001b[0m \u001b[38;5;66;03m#pdfkit.from_file(\"example.html\", \"output.pdf\")\u001b[39;00m\n",
      "File \u001b[1;32mC:\\Downloads\\Lib\\site-packages\\pdfkit\\api.py:72\u001b[0m, in \u001b[0;36mfrom_string\u001b[1;34m(input, output_path, options, toc, cover, css, configuration, cover_first, verbose)\u001b[0m\n\u001b[0;32m     54\u001b[0m \u001b[38;5;28;01mdef\u001b[39;00m\u001b[38;5;250m \u001b[39m\u001b[38;5;21mfrom_string\u001b[39m(\u001b[38;5;28minput\u001b[39m, output_path\u001b[38;5;241m=\u001b[39m\u001b[38;5;28;01mNone\u001b[39;00m, options\u001b[38;5;241m=\u001b[39m\u001b[38;5;28;01mNone\u001b[39;00m, toc\u001b[38;5;241m=\u001b[39m\u001b[38;5;28;01mNone\u001b[39;00m, cover\u001b[38;5;241m=\u001b[39m\u001b[38;5;28;01mNone\u001b[39;00m, css\u001b[38;5;241m=\u001b[39m\u001b[38;5;28;01mNone\u001b[39;00m,\n\u001b[0;32m     55\u001b[0m                 configuration\u001b[38;5;241m=\u001b[39m\u001b[38;5;28;01mNone\u001b[39;00m, cover_first\u001b[38;5;241m=\u001b[39m\u001b[38;5;28;01mFalse\u001b[39;00m, verbose\u001b[38;5;241m=\u001b[39m\u001b[38;5;28;01mFalse\u001b[39;00m):\n\u001b[0;32m     56\u001b[0m \u001b[38;5;250m    \u001b[39m\u001b[38;5;124;03m\"\"\"\u001b[39;00m\n\u001b[0;32m     57\u001b[0m \u001b[38;5;124;03m    Convert given string or strings to PDF document\u001b[39;00m\n\u001b[0;32m     58\u001b[0m \n\u001b[1;32m   (...)\u001b[0m\n\u001b[0;32m     69\u001b[0m \u001b[38;5;124;03m    Returns: True on success\u001b[39;00m\n\u001b[0;32m     70\u001b[0m \u001b[38;5;124;03m    \"\"\"\u001b[39;00m\n\u001b[1;32m---> 72\u001b[0m     r \u001b[38;5;241m=\u001b[39m \u001b[43mPDFKit\u001b[49m\u001b[43m(\u001b[49m\u001b[38;5;28;43minput\u001b[39;49m\u001b[43m,\u001b[49m\u001b[43m \u001b[49m\u001b[38;5;124;43m'\u001b[39;49m\u001b[38;5;124;43mstring\u001b[39;49m\u001b[38;5;124;43m'\u001b[39;49m\u001b[43m,\u001b[49m\u001b[43m \u001b[49m\u001b[43moptions\u001b[49m\u001b[38;5;241;43m=\u001b[39;49m\u001b[43moptions\u001b[49m\u001b[43m,\u001b[49m\u001b[43m \u001b[49m\u001b[43mtoc\u001b[49m\u001b[38;5;241;43m=\u001b[39;49m\u001b[43mtoc\u001b[49m\u001b[43m,\u001b[49m\u001b[43m \u001b[49m\u001b[43mcover\u001b[49m\u001b[38;5;241;43m=\u001b[39;49m\u001b[43mcover\u001b[49m\u001b[43m,\u001b[49m\u001b[43m \u001b[49m\u001b[43mcss\u001b[49m\u001b[38;5;241;43m=\u001b[39;49m\u001b[43mcss\u001b[49m\u001b[43m,\u001b[49m\n\u001b[0;32m     73\u001b[0m \u001b[43m               \u001b[49m\u001b[43mconfiguration\u001b[49m\u001b[38;5;241;43m=\u001b[39;49m\u001b[43mconfiguration\u001b[49m\u001b[43m,\u001b[49m\u001b[43m \u001b[49m\u001b[43mcover_first\u001b[49m\u001b[38;5;241;43m=\u001b[39;49m\u001b[43mcover_first\u001b[49m\u001b[43m,\u001b[49m\u001b[43m \u001b[49m\u001b[43mverbose\u001b[49m\u001b[38;5;241;43m=\u001b[39;49m\u001b[43mverbose\u001b[49m\u001b[43m)\u001b[49m\n\u001b[0;32m     75\u001b[0m     \u001b[38;5;28;01mreturn\u001b[39;00m r\u001b[38;5;241m.\u001b[39mto_pdf(output_path)\n",
      "File \u001b[1;32mC:\\Downloads\\Lib\\site-packages\\pdfkit\\pdfkit.py:45\u001b[0m, in \u001b[0;36mPDFKit.__init__\u001b[1;34m(self, url_or_file, type_, options, toc, cover, css, configuration, cover_first, verbose)\u001b[0m\n\u001b[0;32m     41\u001b[0m \u001b[38;5;28;01mdef\u001b[39;00m\u001b[38;5;250m \u001b[39m\u001b[38;5;21m__init__\u001b[39m(\u001b[38;5;28mself\u001b[39m, url_or_file, type_, options\u001b[38;5;241m=\u001b[39m\u001b[38;5;28;01mNone\u001b[39;00m, toc\u001b[38;5;241m=\u001b[39m\u001b[38;5;28;01mNone\u001b[39;00m, cover\u001b[38;5;241m=\u001b[39m\u001b[38;5;28;01mNone\u001b[39;00m,\n\u001b[0;32m     42\u001b[0m              css\u001b[38;5;241m=\u001b[39m\u001b[38;5;28;01mNone\u001b[39;00m, configuration\u001b[38;5;241m=\u001b[39m\u001b[38;5;28;01mNone\u001b[39;00m, cover_first\u001b[38;5;241m=\u001b[39m\u001b[38;5;28;01mFalse\u001b[39;00m, verbose\u001b[38;5;241m=\u001b[39m\u001b[38;5;28;01mFalse\u001b[39;00m):\n\u001b[0;32m     44\u001b[0m     \u001b[38;5;28mself\u001b[39m\u001b[38;5;241m.\u001b[39msource \u001b[38;5;241m=\u001b[39m Source(url_or_file, type_)\n\u001b[1;32m---> 45\u001b[0m     \u001b[38;5;28mself\u001b[39m\u001b[38;5;241m.\u001b[39mconfiguration \u001b[38;5;241m=\u001b[39m (\u001b[43mConfiguration\u001b[49m\u001b[43m(\u001b[49m\u001b[43m)\u001b[49m \u001b[38;5;28;01mif\u001b[39;00m configuration \u001b[38;5;129;01mis\u001b[39;00m \u001b[38;5;28;01mNone\u001b[39;00m\n\u001b[0;32m     46\u001b[0m                           \u001b[38;5;28;01melse\u001b[39;00m configuration)\n\u001b[0;32m     47\u001b[0m     \u001b[38;5;28;01mtry\u001b[39;00m:\n\u001b[0;32m     48\u001b[0m         \u001b[38;5;28mself\u001b[39m\u001b[38;5;241m.\u001b[39mwkhtmltopdf \u001b[38;5;241m=\u001b[39m \u001b[38;5;28mself\u001b[39m\u001b[38;5;241m.\u001b[39mconfiguration\u001b[38;5;241m.\u001b[39mwkhtmltopdf\u001b[38;5;241m.\u001b[39mdecode(\u001b[38;5;124m'\u001b[39m\u001b[38;5;124mutf-8\u001b[39m\u001b[38;5;124m'\u001b[39m)\n",
      "File \u001b[1;32mC:\\Downloads\\Lib\\site-packages\\pdfkit\\configuration.py:38\u001b[0m, in \u001b[0;36mConfiguration.__init__\u001b[1;34m(self, wkhtmltopdf, meta_tag_prefix, environ)\u001b[0m\n\u001b[0;32m     36\u001b[0m         \u001b[38;5;28;01mpass\u001b[39;00m\n\u001b[0;32m     37\u001b[0m \u001b[38;5;28;01mexcept\u001b[39;00m (\u001b[38;5;167;01mIOError\u001b[39;00m, \u001b[38;5;167;01mFileNotFoundError\u001b[39;00m) \u001b[38;5;28;01mas\u001b[39;00m e:\n\u001b[1;32m---> 38\u001b[0m     \u001b[38;5;28;01mraise\u001b[39;00m \u001b[38;5;167;01mIOError\u001b[39;00m(\u001b[38;5;124m'\u001b[39m\u001b[38;5;124mNo wkhtmltopdf executable found: \u001b[39m\u001b[38;5;124m\"\u001b[39m\u001b[38;5;132;01m%s\u001b[39;00m\u001b[38;5;124m\"\u001b[39m\u001b[38;5;130;01m\\n\u001b[39;00m\u001b[38;5;124m'\u001b[39m\n\u001b[0;32m     39\u001b[0m                   \u001b[38;5;124m'\u001b[39m\u001b[38;5;124mIf this file exists please check that this process can \u001b[39m\u001b[38;5;124m'\u001b[39m\n\u001b[0;32m     40\u001b[0m                   \u001b[38;5;124m'\u001b[39m\u001b[38;5;124mread it or you can pass path to it manually in method call, \u001b[39m\u001b[38;5;124m'\u001b[39m\n\u001b[0;32m     41\u001b[0m                   \u001b[38;5;124m'\u001b[39m\u001b[38;5;124mcheck README. Otherwise please install wkhtmltopdf - \u001b[39m\u001b[38;5;124m'\u001b[39m\n\u001b[0;32m     42\u001b[0m                   \u001b[38;5;124m'\u001b[39m\u001b[38;5;124mhttps://github.com/JazzCore/python-pdfkit/wiki/Installing-wkhtmltopdf\u001b[39m\u001b[38;5;124m'\u001b[39m \u001b[38;5;241m%\u001b[39m \u001b[38;5;28mself\u001b[39m\u001b[38;5;241m.\u001b[39mwkhtmltopdf)\n\u001b[0;32m     45\u001b[0m \u001b[38;5;28mself\u001b[39m\u001b[38;5;241m.\u001b[39menviron \u001b[38;5;241m=\u001b[39m environ\n\u001b[0;32m     47\u001b[0m \u001b[38;5;28;01mif\u001b[39;00m \u001b[38;5;129;01mnot\u001b[39;00m \u001b[38;5;28mself\u001b[39m\u001b[38;5;241m.\u001b[39menviron:\n",
      "\u001b[1;31mOSError\u001b[0m: No wkhtmltopdf executable found: \"b''\"\nIf this file exists please check that this process can read it or you can pass path to it manually in method call, check README. Otherwise please install wkhtmltopdf - https://github.com/JazzCore/python-pdfkit/wiki/Installing-wkhtmltopdf"
     ]
    }
   ],
   "source": [
    "import pdfkit\n",
    "\n",
    "# HTML 문자열을 PDF로 저장\n",
    "html_string = \"<h1>Hello, World!</h1>\"\n",
    "pdfkit.from_string(html_string, \"output.pdf\")\n",
    "\n",
    "# URL을 PDF로 저장\n",
    "#pdfkit.from_url(\"https://example.com\", \"output.pdf\")\n",
    "\n",
    "# 로컬 HTML 파일을 PDF로 저장\n",
    "#pdfkit.from_file(\"example.html\", \"output.pdf\")\n"
   ]
  },
  {
   "cell_type": "code",
   "execution_count": 8,
   "metadata": {},
   "outputs": [
    {
     "ename": "OSError",
     "evalue": "No wkhtmltopdf executable found: \"b''\"\nIf this file exists please check that this process can read it or you can pass path to it manually in method call, check README. Otherwise please install wkhtmltopdf - https://github.com/JazzCore/python-pdfkit/wiki/Installing-wkhtmltopdf",
     "output_type": "error",
     "traceback": [
      "\u001b[1;31m---------------------------------------------------------------------------\u001b[0m",
      "\u001b[1;31mFileNotFoundError\u001b[0m                         Traceback (most recent call last)",
      "File \u001b[1;32mC:\\Downloads\\Lib\\site-packages\\pdfkit\\configuration.py:35\u001b[0m, in \u001b[0;36mConfiguration.__init__\u001b[1;34m(self, wkhtmltopdf, meta_tag_prefix, environ)\u001b[0m\n\u001b[0;32m     33\u001b[0m     \u001b[38;5;28mself\u001b[39m\u001b[38;5;241m.\u001b[39mwkhtmltopdf \u001b[38;5;241m=\u001b[39m lines[\u001b[38;5;241m0\u001b[39m]\u001b[38;5;241m.\u001b[39mstrip()\n\u001b[1;32m---> 35\u001b[0m \u001b[38;5;28;01mwith\u001b[39;00m \u001b[38;5;28;43mopen\u001b[39;49m\u001b[43m(\u001b[49m\u001b[38;5;28;43mself\u001b[39;49m\u001b[38;5;241;43m.\u001b[39;49m\u001b[43mwkhtmltopdf\u001b[49m\u001b[43m)\u001b[49m \u001b[38;5;28;01mas\u001b[39;00m f:\n\u001b[0;32m     36\u001b[0m     \u001b[38;5;28;01mpass\u001b[39;00m\n",
      "\u001b[1;31mFileNotFoundError\u001b[0m: [Errno 2] No such file or directory: b''",
      "\nDuring handling of the above exception, another exception occurred:\n",
      "\u001b[1;31mOSError\u001b[0m                                   Traceback (most recent call last)",
      "Cell \u001b[1;32mIn[8], line 4\u001b[0m\n\u001b[0;32m      1\u001b[0m \u001b[38;5;28;01mimport\u001b[39;00m\u001b[38;5;250m \u001b[39m\u001b[38;5;21;01mpdfkit\u001b[39;00m\n\u001b[0;32m      3\u001b[0m \u001b[38;5;66;03m# 웹페이지 URL을 PDF로 저장\u001b[39;00m\n\u001b[1;32m----> 4\u001b[0m \u001b[43mpdfkit\u001b[49m\u001b[38;5;241;43m.\u001b[39;49m\u001b[43mfrom_url\u001b[49m\u001b[43m(\u001b[49m\u001b[38;5;124;43m\"\u001b[39;49m\u001b[38;5;124;43mhttps://www.naver.com\u001b[39;49m\u001b[38;5;124;43m\"\u001b[39;49m\u001b[43m,\u001b[49m\u001b[43m \u001b[49m\u001b[38;5;124;43m\"\u001b[39;49m\u001b[38;5;124;43mwebpage_output.pdf\u001b[39;49m\u001b[38;5;124;43m\"\u001b[39;49m\u001b[43m)\u001b[49m\n",
      "File \u001b[1;32mC:\\Downloads\\Lib\\site-packages\\pdfkit\\api.py:24\u001b[0m, in \u001b[0;36mfrom_url\u001b[1;34m(url, output_path, options, toc, cover, configuration, cover_first, verbose)\u001b[0m\n\u001b[0;32m      7\u001b[0m \u001b[38;5;28;01mdef\u001b[39;00m\u001b[38;5;250m \u001b[39m\u001b[38;5;21mfrom_url\u001b[39m(url, output_path\u001b[38;5;241m=\u001b[39m\u001b[38;5;28;01mNone\u001b[39;00m, options\u001b[38;5;241m=\u001b[39m\u001b[38;5;28;01mNone\u001b[39;00m, toc\u001b[38;5;241m=\u001b[39m\u001b[38;5;28;01mNone\u001b[39;00m, cover\u001b[38;5;241m=\u001b[39m\u001b[38;5;28;01mNone\u001b[39;00m,\n\u001b[0;32m      8\u001b[0m              configuration\u001b[38;5;241m=\u001b[39m\u001b[38;5;28;01mNone\u001b[39;00m, cover_first\u001b[38;5;241m=\u001b[39m\u001b[38;5;28;01mFalse\u001b[39;00m, verbose\u001b[38;5;241m=\u001b[39m\u001b[38;5;28;01mFalse\u001b[39;00m):\n\u001b[0;32m      9\u001b[0m \u001b[38;5;250m    \u001b[39m\u001b[38;5;124;03m\"\"\"\u001b[39;00m\n\u001b[0;32m     10\u001b[0m \u001b[38;5;124;03m    Convert file of files from URLs to PDF document\u001b[39;00m\n\u001b[0;32m     11\u001b[0m \n\u001b[1;32m   (...)\u001b[0m\n\u001b[0;32m     21\u001b[0m \u001b[38;5;124;03m    Returns: True on success\u001b[39;00m\n\u001b[0;32m     22\u001b[0m \u001b[38;5;124;03m    \"\"\"\u001b[39;00m\n\u001b[1;32m---> 24\u001b[0m     r \u001b[38;5;241m=\u001b[39m \u001b[43mPDFKit\u001b[49m\u001b[43m(\u001b[49m\u001b[43murl\u001b[49m\u001b[43m,\u001b[49m\u001b[43m \u001b[49m\u001b[38;5;124;43m'\u001b[39;49m\u001b[38;5;124;43murl\u001b[39;49m\u001b[38;5;124;43m'\u001b[39;49m\u001b[43m,\u001b[49m\u001b[43m \u001b[49m\u001b[43moptions\u001b[49m\u001b[38;5;241;43m=\u001b[39;49m\u001b[43moptions\u001b[49m\u001b[43m,\u001b[49m\u001b[43m \u001b[49m\u001b[43mtoc\u001b[49m\u001b[38;5;241;43m=\u001b[39;49m\u001b[43mtoc\u001b[49m\u001b[43m,\u001b[49m\u001b[43m \u001b[49m\u001b[43mcover\u001b[49m\u001b[38;5;241;43m=\u001b[39;49m\u001b[43mcover\u001b[49m\u001b[43m,\u001b[49m\n\u001b[0;32m     25\u001b[0m \u001b[43m               \u001b[49m\u001b[43mconfiguration\u001b[49m\u001b[38;5;241;43m=\u001b[39;49m\u001b[43mconfiguration\u001b[49m\u001b[43m,\u001b[49m\u001b[43m \u001b[49m\u001b[43mcover_first\u001b[49m\u001b[38;5;241;43m=\u001b[39;49m\u001b[43mcover_first\u001b[49m\u001b[43m,\u001b[49m\u001b[43m \u001b[49m\u001b[43mverbose\u001b[49m\u001b[38;5;241;43m=\u001b[39;49m\u001b[43mverbose\u001b[49m\u001b[43m)\u001b[49m\n\u001b[0;32m     27\u001b[0m     \u001b[38;5;28;01mreturn\u001b[39;00m r\u001b[38;5;241m.\u001b[39mto_pdf(output_path)\n",
      "File \u001b[1;32mC:\\Downloads\\Lib\\site-packages\\pdfkit\\pdfkit.py:45\u001b[0m, in \u001b[0;36mPDFKit.__init__\u001b[1;34m(self, url_or_file, type_, options, toc, cover, css, configuration, cover_first, verbose)\u001b[0m\n\u001b[0;32m     41\u001b[0m \u001b[38;5;28;01mdef\u001b[39;00m\u001b[38;5;250m \u001b[39m\u001b[38;5;21m__init__\u001b[39m(\u001b[38;5;28mself\u001b[39m, url_or_file, type_, options\u001b[38;5;241m=\u001b[39m\u001b[38;5;28;01mNone\u001b[39;00m, toc\u001b[38;5;241m=\u001b[39m\u001b[38;5;28;01mNone\u001b[39;00m, cover\u001b[38;5;241m=\u001b[39m\u001b[38;5;28;01mNone\u001b[39;00m,\n\u001b[0;32m     42\u001b[0m              css\u001b[38;5;241m=\u001b[39m\u001b[38;5;28;01mNone\u001b[39;00m, configuration\u001b[38;5;241m=\u001b[39m\u001b[38;5;28;01mNone\u001b[39;00m, cover_first\u001b[38;5;241m=\u001b[39m\u001b[38;5;28;01mFalse\u001b[39;00m, verbose\u001b[38;5;241m=\u001b[39m\u001b[38;5;28;01mFalse\u001b[39;00m):\n\u001b[0;32m     44\u001b[0m     \u001b[38;5;28mself\u001b[39m\u001b[38;5;241m.\u001b[39msource \u001b[38;5;241m=\u001b[39m Source(url_or_file, type_)\n\u001b[1;32m---> 45\u001b[0m     \u001b[38;5;28mself\u001b[39m\u001b[38;5;241m.\u001b[39mconfiguration \u001b[38;5;241m=\u001b[39m (\u001b[43mConfiguration\u001b[49m\u001b[43m(\u001b[49m\u001b[43m)\u001b[49m \u001b[38;5;28;01mif\u001b[39;00m configuration \u001b[38;5;129;01mis\u001b[39;00m \u001b[38;5;28;01mNone\u001b[39;00m\n\u001b[0;32m     46\u001b[0m                           \u001b[38;5;28;01melse\u001b[39;00m configuration)\n\u001b[0;32m     47\u001b[0m     \u001b[38;5;28;01mtry\u001b[39;00m:\n\u001b[0;32m     48\u001b[0m         \u001b[38;5;28mself\u001b[39m\u001b[38;5;241m.\u001b[39mwkhtmltopdf \u001b[38;5;241m=\u001b[39m \u001b[38;5;28mself\u001b[39m\u001b[38;5;241m.\u001b[39mconfiguration\u001b[38;5;241m.\u001b[39mwkhtmltopdf\u001b[38;5;241m.\u001b[39mdecode(\u001b[38;5;124m'\u001b[39m\u001b[38;5;124mutf-8\u001b[39m\u001b[38;5;124m'\u001b[39m)\n",
      "File \u001b[1;32mC:\\Downloads\\Lib\\site-packages\\pdfkit\\configuration.py:38\u001b[0m, in \u001b[0;36mConfiguration.__init__\u001b[1;34m(self, wkhtmltopdf, meta_tag_prefix, environ)\u001b[0m\n\u001b[0;32m     36\u001b[0m         \u001b[38;5;28;01mpass\u001b[39;00m\n\u001b[0;32m     37\u001b[0m \u001b[38;5;28;01mexcept\u001b[39;00m (\u001b[38;5;167;01mIOError\u001b[39;00m, \u001b[38;5;167;01mFileNotFoundError\u001b[39;00m) \u001b[38;5;28;01mas\u001b[39;00m e:\n\u001b[1;32m---> 38\u001b[0m     \u001b[38;5;28;01mraise\u001b[39;00m \u001b[38;5;167;01mIOError\u001b[39;00m(\u001b[38;5;124m'\u001b[39m\u001b[38;5;124mNo wkhtmltopdf executable found: \u001b[39m\u001b[38;5;124m\"\u001b[39m\u001b[38;5;132;01m%s\u001b[39;00m\u001b[38;5;124m\"\u001b[39m\u001b[38;5;130;01m\\n\u001b[39;00m\u001b[38;5;124m'\u001b[39m\n\u001b[0;32m     39\u001b[0m                   \u001b[38;5;124m'\u001b[39m\u001b[38;5;124mIf this file exists please check that this process can \u001b[39m\u001b[38;5;124m'\u001b[39m\n\u001b[0;32m     40\u001b[0m                   \u001b[38;5;124m'\u001b[39m\u001b[38;5;124mread it or you can pass path to it manually in method call, \u001b[39m\u001b[38;5;124m'\u001b[39m\n\u001b[0;32m     41\u001b[0m                   \u001b[38;5;124m'\u001b[39m\u001b[38;5;124mcheck README. Otherwise please install wkhtmltopdf - \u001b[39m\u001b[38;5;124m'\u001b[39m\n\u001b[0;32m     42\u001b[0m                   \u001b[38;5;124m'\u001b[39m\u001b[38;5;124mhttps://github.com/JazzCore/python-pdfkit/wiki/Installing-wkhtmltopdf\u001b[39m\u001b[38;5;124m'\u001b[39m \u001b[38;5;241m%\u001b[39m \u001b[38;5;28mself\u001b[39m\u001b[38;5;241m.\u001b[39mwkhtmltopdf)\n\u001b[0;32m     45\u001b[0m \u001b[38;5;28mself\u001b[39m\u001b[38;5;241m.\u001b[39menviron \u001b[38;5;241m=\u001b[39m environ\n\u001b[0;32m     47\u001b[0m \u001b[38;5;28;01mif\u001b[39;00m \u001b[38;5;129;01mnot\u001b[39;00m \u001b[38;5;28mself\u001b[39m\u001b[38;5;241m.\u001b[39menviron:\n",
      "\u001b[1;31mOSError\u001b[0m: No wkhtmltopdf executable found: \"b''\"\nIf this file exists please check that this process can read it or you can pass path to it manually in method call, check README. Otherwise please install wkhtmltopdf - https://github.com/JazzCore/python-pdfkit/wiki/Installing-wkhtmltopdf"
     ]
    }
   ],
   "source": [
    "import pdfkit\n",
    "\n",
    "# 웹페이지 URL을 PDF로 저장\n",
    "pdfkit.from_url(\"https://www.naver.com\", \"webpage_output.pdf\")\n"
   ]
  },
  {
   "cell_type": "code",
   "execution_count": 1,
   "metadata": {},
   "outputs": [
    {
     "ename": "NameError",
     "evalue": "name 'wkhtmltopdf' is not defined",
     "output_type": "error",
     "traceback": [
      "\u001b[1;31m---------------------------------------------------------------------------\u001b[0m",
      "\u001b[1;31mNameError\u001b[0m                                 Traceback (most recent call last)",
      "Cell \u001b[1;32mIn[1], line 1\u001b[0m\n\u001b[1;32m----> 1\u001b[0m \u001b[43mwkhtmltopdf\u001b[49m \u001b[38;5;241m-\u001b[39m\u001b[38;5;241m-\u001b[39mversion\n",
      "\u001b[1;31mNameError\u001b[0m: name 'wkhtmltopdf' is not defined"
     ]
    }
   ],
   "source": [
    "wkhtmltopdf --version"
   ]
  },
  {
   "cell_type": "code",
   "execution_count": null,
   "metadata": {},
   "outputs": [],
   "source": []
  }
 ],
 "metadata": {
  "kernelspec": {
   "display_name": "Python 3 (ipykernel)",
   "language": "python",
   "name": "python3"
  },
  "language_info": {
   "codemirror_mode": {
    "name": "ipython",
    "version": 3
   },
   "file_extension": ".py",
   "mimetype": "text/x-python",
   "name": "python",
   "nbconvert_exporter": "python",
   "pygments_lexer": "ipython3",
   "version": "3.11.4"
  }
 },
 "nbformat": 4,
 "nbformat_minor": 4
}
